{
 "cells": [
  {
   "cell_type": "markdown",
   "id": "805d14d2",
   "metadata": {},
   "source": [
    "# Build Structural Topic Model on NEH Grant Products\n",
    "\n",
    "<b>Author:</b> Jaren Haber, PhD </br>\n",
    "<b>Date</b>: September 16, 2023 </br>\n",
    "<b>Description</b>: Text <br/>\n",
    "<b>Sources</b>: Code borrowed from [my team's work here](https://github.com/comp-strat/text_analysis) and [this vignette for STM in R](https://cran.r-project.org/web/packages/stm/vignettes/stmVignette.pdf)"
   ]
  },
  {
   "cell_type": "markdown",
   "id": "56479db4",
   "metadata": {},
   "source": [
    "## Initialize"
   ]
  },
  {
   "cell_type": "code",
   "execution_count": 6,
   "id": "fc76d49d",
   "metadata": {},
   "outputs": [
    {
     "name": "stderr",
     "output_type": "stream",
     "text": [
      "\n",
      "Attaching package: ‘data.table’\n",
      "\n",
      "\n",
      "The following object is masked from ‘package:purrr’:\n",
      "\n",
      "    transpose\n",
      "\n",
      "\n",
      "The following objects are masked from ‘package:dplyr’:\n",
      "\n",
      "    between, first, last\n",
      "\n",
      "\n"
     ]
    }
   ],
   "source": [
    "# Load packages\n",
    "library('dplyr')\n",
    "library('stm')\n",
    "library('tibble')\n",
    "library('tidyverse')\n",
    "library('rhdf5')\n",
    "library('data.table')"
   ]
  },
  {
   "cell_type": "code",
   "execution_count": 2,
   "id": "334e6d65",
   "metadata": {},
   "outputs": [
    {
     "data": {
      "text/html": [
       "'/home/jovyan/work/neh-nlp/data'"
      ],
      "text/latex": [
       "'/home/jovyan/work/neh-nlp/data'"
      ],
      "text/markdown": [
       "'/home/jovyan/work/neh-nlp/data'"
      ],
      "text/plain": [
       "[1] \"/home/jovyan/work/neh-nlp/data\""
      ]
     },
     "metadata": {},
     "output_type": "display_data"
    }
   ],
   "source": [
    "# Set working directory to data folder\n",
    "setwd('../data/')\n",
    "getwd()"
   ]
  },
  {
   "cell_type": "markdown",
   "id": "b2db7987",
   "metadata": {},
   "source": [
    "## Import data"
   ]
  },
  {
   "cell_type": "code",
   "execution_count": 14,
   "id": "8b27c0c1",
   "metadata": {},
   "outputs": [
    {
     "name": "stdout",
     "output_type": "stream",
     "text": [
      "Classes ‘data.table’ and 'data.frame':\t10514 obs. of  4 variables:\n",
      " $ ID         : int  72 73 74 75 91 92 93 94 95 96 ...\n",
      " $ Abstract   : chr  \"This collection consists of recordings made by Dra. Lastra from 1959 to the present day of Mesoamerican languag\"| __truncated__ \"This collection consists of recordings made by Dra. Cervantes from 1986 to 2006 of the Bribri language of Costa\"| __truncated__ \"This collection consists of audio and video recordings made by Dr. Hopkins from 1964 to 2002 of the Mexican May\"| __truncated__ \"This collection consists of audio recordings, transcriptions, translations and other field notes and articles c\"| __truncated__ ...\n",
      " $ Year       : int  2010 2010 2010 2010 2009 2009 2009 2009 2008 2008 ...\n",
      " $ ProductType: chr  \"Collections\" \"Collections\" \"Collections\" \"Collections\" ...\n",
      " - attr(*, \".internal.selfref\")=<externalptr> \n"
     ]
    }
   ],
   "source": [
    "data = fread('NEH_GrantProducts_Combined.tsv', sep='\\t')\n",
    "str(data)"
   ]
  },
  {
   "cell_type": "code",
   "execution_count": 15,
   "id": "418ee4e9",
   "metadata": {},
   "outputs": [
    {
     "data": {
      "text/html": [
       "0"
      ],
      "text/latex": [
       "0"
      ],
      "text/markdown": [
       "0"
      ],
      "text/plain": [
       "[1] 0"
      ]
     },
     "metadata": {},
     "output_type": "display_data"
    }
   ],
   "source": [
    "# check whether rows contain any NAs\n",
    "row.has.na <- apply(data, 1, function(x){any(is.na(x))})\n",
    "sum(row.has.na)"
   ]
  },
  {
   "cell_type": "markdown",
   "id": "cc99fe3d",
   "metadata": {},
   "source": [
    "## Prepare text data"
   ]
  },
  {
   "cell_type": "code",
   "execution_count": 16,
   "id": "201b0c5f",
   "metadata": {},
   "outputs": [
    {
     "name": "stdout",
     "output_type": "stream",
     "text": [
      "Building corpus... \n",
      "Converting to Lower Case... \n",
      "Removing punctuation... \n",
      "Removing stopwords... \n",
      "Removing numbers... \n",
      "Stemming... \n"
     ]
    },
    {
     "ename": "ERROR",
     "evalue": "Error in `[.data.table`(metadata, , i): j (the 2nd argument inside [...]) is a single symbol but column name 'i' is not found. Perhaps you intended DT[, ..i]. This difference to data.frame is deliberate and explained in FAQ 1.1.\n",
     "output_type": "error",
     "traceback": [
      "Error in `[.data.table`(metadata, , i): j (the 2nd argument inside [...]) is a single symbol but column name 'i' is not found. Perhaps you intended DT[, ..i]. This difference to data.frame is deliberate and explained in FAQ 1.1.\nTraceback:\n",
      "1. textProcessor(data$Abstract, metadata = data)",
      "2. metadata[, i]",
      "3. `[.data.table`(metadata, , i)",
      "4. stop(\"j (the 2nd argument inside [...]) is a single symbol but column name '\", \n .     jsubChar, \"' is not found. Perhaps you intended DT[, ..\", \n .     jsubChar, \"]. This difference to data.frame is deliberate and explained in FAQ 1.1.\")"
     ]
    }
   ],
   "source": [
    "processed <- textProcessor(data$Abstract, metadata = data)"
   ]
  },
  {
   "cell_type": "code",
   "execution_count": 17,
   "id": "092ac7a0",
   "metadata": {},
   "outputs": [
    {
     "ename": "ERROR",
     "evalue": "Error in eval(expr, envir, enclos): object 'processed' not found\n",
     "output_type": "error",
     "traceback": [
      "Error in eval(expr, envir, enclos): object 'processed' not found\nTraceback:\n"
     ]
    }
   ],
   "source": [
    "processed"
   ]
  },
  {
   "cell_type": "code",
   "execution_count": null,
   "id": "7cd12445",
   "metadata": {},
   "outputs": [],
   "source": [
    "out <- prepDocuments(processed$documents, processed$vocab, processed$meta)"
   ]
  },
  {
   "cell_type": "code",
   "execution_count": null,
   "id": "d2d974aa",
   "metadata": {},
   "outputs": [],
   "source": [
    "docs <- out$documents\n",
    "vocab <- out$vocab\n",
    "meta <- out$meta"
   ]
  },
  {
   "cell_type": "code",
   "execution_count": null,
   "id": "0c26aae8",
   "metadata": {},
   "outputs": [],
   "source": [
    "plotRemoved(processed$documents, lower.thresh = seq(10, 210, by = 50))"
   ]
  },
  {
   "cell_type": "code",
   "execution_count": null,
   "id": "92ba3034",
   "metadata": {},
   "outputs": [],
   "source": [
    "out <- prepDocuments(processed$documents, processed$vocab,processed$meta, lower.thresh = 20)"
   ]
  },
  {
   "cell_type": "markdown",
   "id": "2d5e53cb",
   "metadata": {},
   "source": [
    "## Estimate Structural Topic Model"
   ]
  },
  {
   "cell_type": "code",
   "execution_count": null,
   "id": "8ec171fd",
   "metadata": {},
   "outputs": [],
   "source": [
    "model <- stm(documents = out$documents, \n",
    "             vocab = out$vocab, \n",
    "             K = 20, \n",
    "             prevalence =~ Year + Gender, \n",
    "             max.em.its = 25, \n",
    "             data = out$meta, \n",
    "             init.type = \"Spectral\")"
   ]
  },
  {
   "cell_type": "markdown",
   "id": "d5160f96",
   "metadata": {},
   "source": [
    "## Examine words and example documents"
   ]
  },
  {
   "cell_type": "code",
   "execution_count": null,
   "id": "4c2e6221",
   "metadata": {},
   "outputs": [],
   "source": [
    "# Explore the words associated with each topic\n",
    "labelTopics(model, c(1:20))"
   ]
  },
  {
   "cell_type": "code",
   "execution_count": null,
   "id": "61b7b3be",
   "metadata": {},
   "outputs": [],
   "source": [
    "# examine documents that are highly associated with topics\n",
    "thoughts <- findThoughts(model, texts = shortdoc, n = 2, topics = 3)$docs[[1]]"
   ]
  },
  {
   "cell_type": "code",
   "execution_count": null,
   "id": "79ca3d4d",
   "metadata": {},
   "outputs": [],
   "source": [
    "thoughts20 <- findThoughts(charterPrevFit, texts = shortdoc, n = 2, topics = 20)$docs[[1]]"
   ]
  },
  {
   "cell_type": "code",
   "execution_count": null,
   "id": "c39f094c",
   "metadata": {},
   "outputs": [],
   "source": [
    "# Estimate metadata/topic relationships\n",
    "par(mfrow = c(1, 2),mar = c(.5, .5, 1, .5))"
   ]
  },
  {
   "cell_type": "code",
   "execution_count": null,
   "id": "a3813884",
   "metadata": {},
   "outputs": [],
   "source": [
    "plotQuote(thoughts3, width = 30, main = \"Topic 3\")"
   ]
  },
  {
   "cell_type": "code",
   "execution_count": null,
   "id": "ba41f461",
   "metadata": {},
   "outputs": [],
   "source": [
    "plotQuote(thoughts20, width = 30, main = \"Topic 20\")"
   ]
  },
  {
   "cell_type": "code",
   "execution_count": null,
   "id": "3a17ff4e",
   "metadata": {},
   "outputs": [],
   "source": [
    "out$meta$rating <- as.factor(out$meta$rating)"
   ]
  },
  {
   "cell_type": "code",
   "execution_count": null,
   "id": "584d4e73",
   "metadata": {},
   "outputs": [],
   "source": [
    "prep <- estimateEffect(1:20 ~ rating + s(day), charterPrevFit, meta = out$meta, uncertainty = \"Global\")"
   ]
  },
  {
   "cell_type": "code",
   "execution_count": null,
   "id": "e7b88d9e",
   "metadata": {},
   "outputs": [],
   "source": [
    "summary(prep, topics=1)"
   ]
  },
  {
   "cell_type": "markdown",
   "id": "b1ec2bed",
   "metadata": {},
   "source": [
    "## Visualize STM"
   ]
  },
  {
   "cell_type": "code",
   "execution_count": null,
   "id": "34ac298b",
   "metadata": {},
   "outputs": [],
   "source": [
    "# Summary visualization\n",
    "plot(model, type = \"summary\", xlim = c(0, 1))\n",
    "# Graphical display of estimated topic proportions."
   ]
  },
  {
   "cell_type": "code",
   "execution_count": null,
   "id": "4e43ea66",
   "metadata": {},
   "outputs": [],
   "source": [
    "# Topical content\n",
    "plot(prep, covariate = \"rating\", topics = c(3, 7, 20),model = model, \n",
    "        method = \"difference\", cov.value1 = \"Liberal\", cov.value2 = \"Conservative\",\n",
    "        xlab = \"More Conservative ... More Liberal\", main = \"Effect of Liberal vs. Conservative\",\n",
    "        xlim = c(-.1, .1), labeltype = \"custom\", custom.labels = c('Obama', 'Sarah Palin','Bush Presidency'))"
   ]
  },
  {
   "cell_type": "code",
   "execution_count": null,
   "id": "1aaa7bf9",
   "metadata": {},
   "outputs": [],
   "source": [
    "plot(prep, \"day\", method = \"continuous\", topics = 7, model = z, printlegend = FALSE, xaxt = \"n\", xlab = \"Time (2008)\")"
   ]
  },
  {
   "cell_type": "code",
   "execution_count": null,
   "id": "a037e190",
   "metadata": {},
   "outputs": [],
   "source": [
    "yearseq <- seq(from = as.Date(\"1970-01-01\"),to = as.Date(\"2023-12-01\"), by = \"year\")"
   ]
  },
  {
   "cell_type": "code",
   "execution_count": null,
   "id": "8618bf53",
   "metadata": {},
   "outputs": [],
   "source": [
    "years <- years(yearseq)\n",
    "axis(1,at = as.numeric(yearseq) - min(as.numeric(yearseq)),labels = years)\n",
    "\n",
    "# Graphical display of topic prevalence."
   ]
  },
  {
   "cell_type": "code",
   "execution_count": null,
   "id": "e8d27020",
   "metadata": {},
   "outputs": [],
   "source": [
    "plot(model, type = \"perspectives\", topics = 11)\n",
    "\n",
    "# Graphical display of topical perspectives"
   ]
  },
  {
   "cell_type": "code",
   "execution_count": null,
   "id": "7380d873",
   "metadata": {},
   "outputs": [],
   "source": [
    "plot(model, type = \"perspectives\", topics = c(12, 20))\n",
    "\n",
    "# Graphical display of topical contrast between topics 12 and 20."
   ]
  }
 ],
 "metadata": {
  "kernelspec": {
   "display_name": "R",
   "language": "R",
   "name": "ir"
  },
  "language_info": {
   "codemirror_mode": "r",
   "file_extension": ".r",
   "mimetype": "text/x-r-source",
   "name": "R",
   "pygments_lexer": "r",
   "version": "4.1.1"
  }
 },
 "nbformat": 4,
 "nbformat_minor": 5
}
