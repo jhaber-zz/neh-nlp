{
 "cells": [
  {
   "cell_type": "markdown",
   "id": "16bb9e8b",
   "metadata": {},
   "source": [
    "# Title\n",
    "\n",
    "Description"
   ]
  },
  {
   "cell_type": "markdown",
   "id": "4951fa39",
   "metadata": {},
   "source": [
    "## Initialize"
   ]
  },
  {
   "cell_type": "code",
   "execution_count": 4,
   "id": "7b9409f6",
   "metadata": {},
   "outputs": [],
   "source": [
    "# Import packages\n",
    "import pandas as pd\n",
    "from os.path import join\n",
    "\n",
    "# Import local function(s)\n",
    "from utils import get_unzip"
   ]
  },
  {
   "cell_type": "markdown",
   "id": "9473f5d8",
   "metadata": {},
   "source": [
    "## Import data"
   ]
  },
  {
   "cell_type": "code",
   "execution_count": 2,
   "id": "8a5f9ee0",
   "metadata": {},
   "outputs": [],
   "source": [
    "# Define URL of zipped file\n",
    "data_url = 'https://apps.neh.gov/open/data/NEH_GrantProducts.zip'\n",
    "fpath = '../data'\n",
    "\n",
    "# Download zipped file and extract\n",
    "get_unzip(data_url, fpath)"
   ]
  },
  {
   "cell_type": "code",
   "execution_count": 9,
   "id": "92074ded",
   "metadata": {},
   "outputs": [],
   "source": [
    "# Create DataFrame for each data source\n",
    "books_df = pd.read_xml(join('../data/NEH_GrantProducts', 'NEH_Books.xml'))\n",
    "articles_df = pd.read_xml(join('../data/NEH_GrantProducts', 'NEH_Articles.xml'))\n",
    "confs_df = pd.read_xml(join('../data/NEH_GrantProducts', 'NEH_ConferencePresentations.xml'))\n",
    "presents_df = pd.read_xml(join('../data/NEH_GrantProducts', 'NEH_Presentations.xml'))\n",
    "books_df = pd.read_xml(join('../data/NEH_GrantProducts', 'NEH_BookSections.xml'))\n",
    "\n",
    "blogs_df = pd.read_xml(join('../data/NEH_GrantProducts', 'NEH_BlogPosts.xml'))\n",
    "web_df = pd.read_xml(join('../data/NEH_GrantProducts', 'NEH_WebResources.xml'))\n",
    "courses_df = pd.read_xml(join('../data/NEH_GrantProducts', 'NEH_CourseMaterials.xml'))\n",
    "films_df = pd.read_xml(join('../data/NEH_GrantProducts', 'NEH_FilmBroadcasts.xml'))\n",
    "databases_df = pd.read_xml(join('../data/NEH_GrantProducts', 'NEH_DatabaseEditions.xml'))\n",
    "\n",
    "radio_df = pd.read_xml(join('../data/NEH_GrantProducts', 'NEH_RadioBroadcasts.xml'))\n",
    "exhibitions_df = pd.read_xml(join('../data/NEH_GrantProducts', 'NEH_Exhibitions.xml'))\n",
    "reports_df = pd.read_xml(join('../data/NEH_GrantProducts', 'NEH_Reports.xml'))\n",
    "institutes_df = pd.read_xml(join('../data/NEH_GrantProducts', 'NEH_ConferenceInstituteSeminars.xml'))\n",
    "programs_df = pd.read_xml(join('../data/NEH_GrantProducts', 'NEH_ComputerPrograms.xml'))\n",
    "\n",
    "catalogs_df = pd.read_xml(join('../data/NEH_GrantProducts', 'NEH_Catalogs.xml'))\n",
    "collections_df = pd.read_xml(join('../data/NEH_GrantProducts', 'NEH_Collections.xml'))\n",
    "items_df = pd.read_xml(join('../data/NEH_GrantProducts', 'NEH_OpenAccessItems.xml'))\n",
    "scripts_df = pd.read_xml(join('../data/NEH_GrantProducts', 'NEH_Scripts.xml'))\n",
    "positions_df = pd.read_xml(join('../data/NEH_GrantProducts', 'NEH_Positions.xml'))\n",
    "\n",
    "games_df = pd.read_xml(join('../data/NEH_GrantProducts', 'NEH_Games.xml'))\n",
    "equipment_df = pd.read_xml(join('../data/NEH_GrantProducts', 'NEH_Equipment.xml'))\n",
    "centers_df = pd.read_xml(join('../data/NEH_GrantProducts', 'NEH_Centers.xml'))\n",
    "buildings_df = pd.read_xml(join('../data/NEH_GrantProducts', 'NEH_Buildings.xml'))"
   ]
  },
  {
   "cell_type": "markdown",
   "id": "c3a59222",
   "metadata": {},
   "source": [
    "## Next step"
   ]
  },
  {
   "cell_type": "code",
   "execution_count": null,
   "id": "e698c2e5",
   "metadata": {},
   "outputs": [],
   "source": []
  }
 ],
 "metadata": {
  "kernelspec": {
   "display_name": "Python 3 (ipykernel)",
   "language": "python",
   "name": "python3"
  },
  "language_info": {
   "codemirror_mode": {
    "name": "ipython",
    "version": 3
   },
   "file_extension": ".py",
   "mimetype": "text/x-python",
   "name": "python",
   "nbconvert_exporter": "python",
   "pygments_lexer": "ipython3",
   "version": "3.9.6"
  }
 },
 "nbformat": 4,
 "nbformat_minor": 5
}
