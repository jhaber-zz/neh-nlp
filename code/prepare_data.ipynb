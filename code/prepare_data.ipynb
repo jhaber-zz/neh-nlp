{
 "cells": [
  {
   "cell_type": "markdown",
   "id": "16bb9e8b",
   "metadata": {},
   "source": [
    "# Prepare NEH Grant Products Data\n",
    "\n",
    "<b>Author:</b> Jaren Haber, PhD </br>\n",
    "<b>Date</b>: September 16, 2023 </br>\n",
    "<b>Description</b>: This notebook imports NEH grant product data from the web and combines the different products into a single, large DataFrame. <br/>"
   ]
  },
  {
   "cell_type": "markdown",
   "id": "4951fa39",
   "metadata": {},
   "source": [
    "## Initialize"
   ]
  },
  {
   "cell_type": "code",
   "execution_count": 1,
   "id": "7b9409f6",
   "metadata": {},
   "outputs": [],
   "source": [
    "# Import packages\n",
    "import pandas as pd\n",
    "import numpy as np\n",
    "from os.path import join\n",
    "import gender_guesser.detector as gender # guesses gender from first name\n",
    "\n",
    "# Import local function(s)\n",
    "from utils import get_unzip, clean_unicode"
   ]
  },
  {
   "cell_type": "markdown",
   "id": "4ef5f39c",
   "metadata": {},
   "source": [
    "## Import data from web"
   ]
  },
  {
   "cell_type": "code",
   "execution_count": 2,
   "id": "8a5f9ee0",
   "metadata": {},
   "outputs": [],
   "source": [
    "# Define URL of zipped file\n",
    "data_url = 'https://apps.neh.gov/open/data/NEH_GrantProducts.zip'\n",
    "fpath = '../data'\n",
    "\n",
    "# Download zipped file and extract\n",
    "get_unzip(data_url, fpath)"
   ]
  },
  {
   "cell_type": "markdown",
   "id": "fe51944e",
   "metadata": {},
   "source": [
    "## Combine data for all product types"
   ]
  },
  {
   "cell_type": "code",
   "execution_count": 3,
   "id": "2e23e398",
   "metadata": {},
   "outputs": [],
   "source": [
    "# Define file suffixes for grant product types\n",
    "product_types = [\n",
    "    'Collections', \n",
    "    'Articles', \n",
    "    'BlogPosts', \n",
    "    'Books', \n",
    "    'BookSections', \n",
    "    'Buildings', \n",
    "    'Catalogs', \n",
    "    'Centers', \n",
    "    'ComputerPrograms', \n",
    "    'ConferencePresentations', \n",
    "    'ConferenceInstituteSeminars', \n",
    "    'CourseMaterials', \n",
    "    'DatabaseEditions', \n",
    "    'Equipment', \n",
    "    'Exhibitions', \n",
    "    'FilmBroadcasts', \n",
    "    'Games', \n",
    "    'OpenAccessItems', \n",
    "    'Presentations', \n",
    "    'RadioBroadcasts', \n",
    "    'Reports', \n",
    "    'Scripts', \n",
    "    'Positions', \n",
    "    'WebResources'\n",
    "]"
   ]
  },
  {
   "cell_type": "code",
   "execution_count": 4,
   "id": "81ec6674",
   "metadata": {},
   "outputs": [],
   "source": [
    "## Load each product type and combine into one large DataFrame\n",
    "dfs = [] # Create empty list for grant product DataFrames\n",
    "\n",
    "# Loop over product types and add to long list of DFs\n",
    "for product in product_types: \n",
    "    product_df = pd.read_xml(join('../data/NEH_GrantProducts', f'NEH_{product}.xml'))\n",
    "    product_df['ProductType'] = product\n",
    "    dfs.append(product_df)\n",
    "    \n",
    "df = pd.concat(dfs) # Combine DFs"
   ]
  },
  {
   "cell_type": "code",
   "execution_count": 5,
   "id": "3183081d",
   "metadata": {
    "scrolled": false
   },
   "outputs": [
    {
     "name": "stdout",
     "output_type": "stream",
     "text": [
      "Count of rows, columns in full data: (22609, 44)\n",
      "These are the 44 column names:\n",
      "ID, ApplicationNumber, Abstract, Address, Director, Name, PrimaryURL, PrimaryURLDescription, SecondaryURL, SecondaryURLDescription, Year, ProductType, AccessModel, Author, Format, PeriodicalTitle, Publisher, Title, BlogTitle, Date, Website, Editor, ISBN, Translator, Type, BookTitle, CatalogType, ProgrammingLanguage_Platform, SourceAvailable, ConferenceName, DateRange, Location, Audience, Description, Curator, Producer, Writer, PublicationType, URL3, URL3Description, URL4, URL4Description, URL5, URL5Description\n",
      "\n"
     ]
    },
    {
     "data": {
      "text/html": [
       "<div>\n",
       "<style scoped>\n",
       "    .dataframe tbody tr th:only-of-type {\n",
       "        vertical-align: middle;\n",
       "    }\n",
       "\n",
       "    .dataframe tbody tr th {\n",
       "        vertical-align: top;\n",
       "    }\n",
       "\n",
       "    .dataframe thead th {\n",
       "        text-align: right;\n",
       "    }\n",
       "</style>\n",
       "<table border=\"1\" class=\"dataframe\">\n",
       "  <thead>\n",
       "    <tr style=\"text-align: right;\">\n",
       "      <th></th>\n",
       "      <th>ID</th>\n",
       "      <th>ApplicationNumber</th>\n",
       "      <th>Abstract</th>\n",
       "      <th>Address</th>\n",
       "      <th>Director</th>\n",
       "      <th>Name</th>\n",
       "      <th>PrimaryURL</th>\n",
       "      <th>PrimaryURLDescription</th>\n",
       "      <th>SecondaryURL</th>\n",
       "      <th>SecondaryURLDescription</th>\n",
       "      <th>Year</th>\n",
       "      <th>ProductType</th>\n",
       "      <th>AccessModel</th>\n",
       "      <th>Author</th>\n",
       "      <th>Format</th>\n",
       "      <th>PeriodicalTitle</th>\n",
       "      <th>Publisher</th>\n",
       "      <th>Title</th>\n",
       "      <th>BlogTitle</th>\n",
       "      <th>Date</th>\n",
       "    </tr>\n",
       "  </thead>\n",
       "  <tbody>\n",
       "    <tr>\n",
       "      <th>3213</th>\n",
       "      <td>8265</td>\n",
       "      <td>EH-21474-91</td>\n",
       "      <td>None</td>\n",
       "      <td>NaN</td>\n",
       "      <td>NaN</td>\n",
       "      <td>NaN</td>\n",
       "      <td>https://www.worldcat.org/search?q=9780300048230</td>\n",
       "      <td>WorldCat entry</td>\n",
       "      <td>None</td>\n",
       "      <td>None</td>\n",
       "      <td>1990.0</td>\n",
       "      <td>Books</td>\n",
       "      <td>None</td>\n",
       "      <td>Peck, H. Daniel</td>\n",
       "      <td>NaN</td>\n",
       "      <td>NaN</td>\n",
       "      <td>New Haven: Yale University Press</td>\n",
       "      <td>Thoreau's Morning Work: Memory and Perception ...</td>\n",
       "      <td>NaN</td>\n",
       "      <td>NaN</td>\n",
       "    </tr>\n",
       "    <tr>\n",
       "      <th>757</th>\n",
       "      <td>23205</td>\n",
       "      <td>FT-264875-19</td>\n",
       "      <td>None</td>\n",
       "      <td>NaN</td>\n",
       "      <td>NaN</td>\n",
       "      <td>NaN</td>\n",
       "      <td>https://www.worldcat.org/search?q=253049202</td>\n",
       "      <td>WorldCat entry (253049202)</td>\n",
       "      <td>None</td>\n",
       "      <td>None</td>\n",
       "      <td>2020.0</td>\n",
       "      <td>Books</td>\n",
       "      <td>None</td>\n",
       "      <td>Esra Akin-Kivanc</td>\n",
       "      <td>NaN</td>\n",
       "      <td>NaN</td>\n",
       "      <td>Indiana University Press</td>\n",
       "      <td>Muthanna / Mirror Writing in Islamic Calligrap...</td>\n",
       "      <td>NaN</td>\n",
       "      <td>NaN</td>\n",
       "    </tr>\n",
       "    <tr>\n",
       "      <th>528</th>\n",
       "      <td>18517</td>\n",
       "      <td>ES-267027-19</td>\n",
       "      <td>Any good educator at whatever level and in any...</td>\n",
       "      <td>NaN</td>\n",
       "      <td>NaN</td>\n",
       "      <td>NaN</td>\n",
       "      <td>None</td>\n",
       "      <td>None</td>\n",
       "      <td>None</td>\n",
       "      <td>None</td>\n",
       "      <td>NaN</td>\n",
       "      <td>ConferencePresentations</td>\n",
       "      <td>NaN</td>\n",
       "      <td>Hilary Goodnow, Plimoth Patuxet Museums, Gerri...</td>\n",
       "      <td>NaN</td>\n",
       "      <td>NaN</td>\n",
       "      <td>NaN</td>\n",
       "      <td>Challenge = Opportunity: Supporting Profession...</td>\n",
       "      <td>NaN</td>\n",
       "      <td>11/10/2020</td>\n",
       "    </tr>\n",
       "    <tr>\n",
       "      <th>265</th>\n",
       "      <td>22938</td>\n",
       "      <td>HAA-266553-19</td>\n",
       "      <td>The building blocks of this dashboard are a se...</td>\n",
       "      <td>NaN</td>\n",
       "      <td>NaN</td>\n",
       "      <td>NaN</td>\n",
       "      <td>https://imperiia.scalar.fas.harvard.edu/imperi...</td>\n",
       "      <td>The URL brings you to the dashboard page withi...</td>\n",
       "      <td>None</td>\n",
       "      <td>None</td>\n",
       "      <td>2022.0</td>\n",
       "      <td>WebResources</td>\n",
       "      <td>NaN</td>\n",
       "      <td>Kelly O'Neill</td>\n",
       "      <td>NaN</td>\n",
       "      <td>NaN</td>\n",
       "      <td>NaN</td>\n",
       "      <td>Gardens of Crimea</td>\n",
       "      <td>NaN</td>\n",
       "      <td>NaN</td>\n",
       "    </tr>\n",
       "    <tr>\n",
       "      <th>12</th>\n",
       "      <td>99</td>\n",
       "      <td>PD-50003-06</td>\n",
       "      <td>This collection includes audio recordings, tra...</td>\n",
       "      <td>The Archive of the Indigenous Languages of Lat...</td>\n",
       "      <td>Joel Sherzer</td>\n",
       "      <td>Ellen Basso Kalapalo Collection</td>\n",
       "      <td>http://www.ailla.utexas.org</td>\n",
       "      <td>None</td>\n",
       "      <td>None</td>\n",
       "      <td>None</td>\n",
       "      <td>2007.0</td>\n",
       "      <td>Collections</td>\n",
       "      <td>NaN</td>\n",
       "      <td>NaN</td>\n",
       "      <td>NaN</td>\n",
       "      <td>NaN</td>\n",
       "      <td>NaN</td>\n",
       "      <td>NaN</td>\n",
       "      <td>NaN</td>\n",
       "      <td>NaN</td>\n",
       "    </tr>\n",
       "  </tbody>\n",
       "</table>\n",
       "</div>"
      ],
      "text/plain": [
       "         ID ApplicationNumber  \\\n",
       "3213   8265       EH-21474-91   \n",
       "757   23205      FT-264875-19   \n",
       "528   18517      ES-267027-19   \n",
       "265   22938     HAA-266553-19   \n",
       "12       99       PD-50003-06   \n",
       "\n",
       "                                               Abstract  \\\n",
       "3213                                               None   \n",
       "757                                                None   \n",
       "528   Any good educator at whatever level and in any...   \n",
       "265   The building blocks of this dashboard are a se...   \n",
       "12    This collection includes audio recordings, tra...   \n",
       "\n",
       "                                                Address      Director  \\\n",
       "3213                                                NaN           NaN   \n",
       "757                                                 NaN           NaN   \n",
       "528                                                 NaN           NaN   \n",
       "265                                                 NaN           NaN   \n",
       "12    The Archive of the Indigenous Languages of Lat...  Joel Sherzer   \n",
       "\n",
       "                                 Name  \\\n",
       "3213                              NaN   \n",
       "757                               NaN   \n",
       "528                               NaN   \n",
       "265                               NaN   \n",
       "12    Ellen Basso Kalapalo Collection   \n",
       "\n",
       "                                             PrimaryURL  \\\n",
       "3213    https://www.worldcat.org/search?q=9780300048230   \n",
       "757         https://www.worldcat.org/search?q=253049202   \n",
       "528                                                None   \n",
       "265   https://imperiia.scalar.fas.harvard.edu/imperi...   \n",
       "12                          http://www.ailla.utexas.org   \n",
       "\n",
       "                                  PrimaryURLDescription SecondaryURL  \\\n",
       "3213                                     WorldCat entry         None   \n",
       "757                          WorldCat entry (253049202)         None   \n",
       "528                                                None         None   \n",
       "265   The URL brings you to the dashboard page withi...         None   \n",
       "12                                                 None         None   \n",
       "\n",
       "     SecondaryURLDescription    Year              ProductType AccessModel  \\\n",
       "3213                    None  1990.0                    Books        None   \n",
       "757                     None  2020.0                    Books        None   \n",
       "528                     None     NaN  ConferencePresentations         NaN   \n",
       "265                     None  2022.0             WebResources         NaN   \n",
       "12                      None  2007.0              Collections         NaN   \n",
       "\n",
       "                                                 Author Format  \\\n",
       "3213                                    Peck, H. Daniel    NaN   \n",
       "757                                    Esra Akin-Kivanc    NaN   \n",
       "528   Hilary Goodnow, Plimoth Patuxet Museums, Gerri...    NaN   \n",
       "265                                       Kelly O'Neill    NaN   \n",
       "12                                                  NaN    NaN   \n",
       "\n",
       "     PeriodicalTitle                         Publisher  \\\n",
       "3213             NaN  New Haven: Yale University Press   \n",
       "757              NaN          Indiana University Press   \n",
       "528              NaN                               NaN   \n",
       "265              NaN                               NaN   \n",
       "12               NaN                               NaN   \n",
       "\n",
       "                                                  Title BlogTitle        Date  \n",
       "3213  Thoreau's Morning Work: Memory and Perception ...       NaN         NaN  \n",
       "757   Muthanna / Mirror Writing in Islamic Calligrap...       NaN         NaN  \n",
       "528   Challenge = Opportunity: Supporting Profession...       NaN  11/10/2020  \n",
       "265                                   Gardens of Crimea       NaN         NaN  \n",
       "12                                                  NaN       NaN         NaN  "
      ]
     },
     "execution_count": 5,
     "metadata": {},
     "output_type": "execute_result"
    }
   ],
   "source": [
    "# Inspect full data\n",
    "print(\"Count of rows, columns in full data:\", df.shape)\n",
    "print(f\"These are the {str(len(df.columns))} column names:\")\n",
    "print(\", \".join([col for col in df.columns]))\n",
    "print()\n",
    "df.sample(5).iloc[:,:20] # Show first 20 columns of 5 random rows"
   ]
  },
  {
   "cell_type": "markdown",
   "id": "ba77cc65",
   "metadata": {},
   "source": [
    "## Clean up `Abstract` and `Year` columns"
   ]
  },
  {
   "cell_type": "code",
   "execution_count": 6,
   "id": "5f974ee5",
   "metadata": {},
   "outputs": [
    {
     "data": {
      "text/plain": [
       "Presented at the conference \"Flannery O'Connor and Other Southern Women Writers\" at Georgia College in Milledgeville, GA.                                                                                                                                                                                                                                                                                                                                                                                                                                                                                                                                                                                                                              22\n",
       "Emmy Award                                                                                                                                                                                                                                                                                                                                                                                                                                                                                                                                                                                                                                                                                                                                             16\n",
       "Peabody Award                                                                                                                                                                                                                                                                                                                                                                                                                                                                                                                                                                                                                                                                                                                                          15\n",
       "Multi-media presentation about the life and career of Bessie Margolin                                                                                                                                                                                                                                                                                                                                                                                                                                                                                                                                                                                                                                                                                  11\n",
       "Project website for summer 2012 NEH Landmarks of American History and Culture Workshops.                                                                                                                                                                                                                                                                                                                                                                                                                                                                                                                                                                                                                                                               11\n",
       "Some philosophers, the 'anti-individualists,' believe that all fundamental facts are purely qualitative. They could in principle be stated without mentioning any specific individual by name. Other philosophers, the 'individualists,' believe that the fundamental facts also include facts about which individuals exist and how the qualitative properties and relations are distributed over them. Anti-individualists are committed to the idea that all facts supervene on the qualitative facts. I argue that that thesis yields implausible consequences in the theory of chance and counterfactuals. Ultimately, individualism carries the day.                                                                                              9\n",
       "Social Science History Association                                                                                                                                                                                                                                                                                                                                                                                                                                                                                                                                                                                                                                                                                                                      8\n",
       "This event served as one in a series of public design charrettes that allowed us to take a public collaborative approach to designing the public web interface for the project. Observing public interactions with beta versions of our software allowed us to gain understanding of users' needs and goals, and to iteratively develop and evaluate the designs . Each charrette included a process evaluation protocol consisting of close observation of charrette interactions, structured note-taking, and post-charrette debriefing sessions.                                                                                                                                                                                                     7\n",
       "Project team members staffed a booth at this public event with tablets and touchscreen kiosks running the Keweenaw Time Traveler web interface. Staff introduced visitors to the project and gave guided tours of the interface. Staff recorded visitor interactions through note-taking and added this data to the feedback generated through the design charrettes to aid in directing interface development.                                                                                                                                                                                                                                                                                                                                         7\n",
       "Book                                                                                                                                                                                                                                                                                                                                                                                                                                                                                                                                                                                                                                                                                                                                                    6\n",
       "We re-versioned this episode for national radio broadcast on The World public radio program.                                                                                                                                                                                                                                                                                                                                                                                                                                                                                                                                                                                                                                                            6\n",
       "Online column                                                                                                                                                                                                                                                                                                                                                                                                                                                                                                                                                                                                                                                                                                                                           6\n",
       "Since its release in February 2015, the MLA's report Enrollments in Languages Other Than English in United States Institutions of Higher Education, Fall 2013 has received coverage in the Washington Post, Inside Higher Ed, and numerous university and regional outlets, as well as some international publications. While enrollments in language courses have increased 11.9% since 2002, the 2013 survey showed a decline of 6.7% since 2009—the year of the last survey. What does this most recent shift downward tell us about current trends in the study of languages in higher education? Are there new arguments to be made for the importance of learning a foreign language in a global economy? Which are the new trendy languages?     6\n",
       "Name: Abstract, dtype: int64"
      ]
     },
     "execution_count": 6,
     "metadata": {},
     "output_type": "execute_result"
    }
   ],
   "source": [
    "## Clean up 'Abstract' column: many null entries (don't remove empties for now)\n",
    "# Define dictionary containing specific 'no abstract' language\n",
    "null_dict = {'^([Nn]o\\s+)?[Aa]bstract\\s?(not\\s+)?(provided|available)?\\.?$':np.nan,\n",
    "             '^[Nn]o[tn]e? available\\.?$':np.nan,\n",
    "             #'^(Emmy|Peabody) [Aa]ward$':np.nan, \n",
    "             '^do not have$':np.nan,\n",
    "             '^\\s+?available$':np.nan,\n",
    "             #'^[Bb]ook$':np.nan,\n",
    "             #'^([Oo]nline)?\\s?[Cc]olumn$':np.nan,\n",
    "             '^[Nn]one$':np.nan,\n",
    "             '^Forthcoming$':np.nan,\n",
    "             '^xx$':np.nan, \n",
    "             '^[Nn]a[Nn]?\\.?$':np.nan,\n",
    "             '^\\-$':np.nan,\n",
    "             '^\\.$':np.nan}\n",
    "\n",
    "# Use dictionary to replace nulls with empties\n",
    "df.Abstract.replace(null_dict, \n",
    "                    regex=True, inplace=True)\n",
    "\n",
    "df.Abstract.value_counts().loc[lambda row: row>5] # Examine any values above 5"
   ]
  },
  {
   "cell_type": "code",
   "execution_count": 7,
   "id": "545f488a",
   "metadata": {},
   "outputs": [
    {
     "data": {
      "text/plain": [
       "1950.0    1\n",
       "1957.0    1\n",
       "1965.0    1\n",
       "1968.0    1\n",
       "2025.0    1\n",
       "Name: Year, dtype: int64"
      ]
     },
     "execution_count": 7,
     "metadata": {},
     "output_type": "execute_result"
    }
   ],
   "source": [
    "## Clean up 'Year' column: some erroneous entries\n",
    "# Define dictionary to replace errors with corrected values\n",
    "year_dict = {199:1990,\n",
    "             201:2010,\n",
    "             202:2021,\n",
    "             208:2018,\n",
    "             1916:2016,\n",
    "             2106:2016,\n",
    "             1915:2015,\n",
    "             1913:2013,\n",
    "             0:np.nan}\n",
    "\n",
    "# Apply dictionary to fix errors\n",
    "df.Year.replace(year_dict, \n",
    "                regex=True, inplace=True)\n",
    "\n",
    "df.Year.value_counts().sort_index().loc[lambda row: row==1] # Examine any values that occur just once"
   ]
  },
  {
   "cell_type": "markdown",
   "id": "488d2401",
   "metadata": {},
   "source": [
    "## Examine missingness for `Abstract`"
   ]
  },
  {
   "cell_type": "code",
   "execution_count": 8,
   "id": "bbbe5027",
   "metadata": {},
   "outputs": [
    {
     "data": {
      "text/plain": [
       "<AxesSubplot:>"
      ]
     },
     "execution_count": 8,
     "metadata": {},
     "output_type": "execute_result"
    },
    {
     "data": {
      "image/png": "[encoded data removed]",
      "text/plain": [
       "<Figure size 432x288 with 1 Axes>"
      ]
     },
     "metadata": {
      "needs_background": "light"
     },
     "output_type": "display_data"
    }
   ],
   "source": [
    "# As baseline, see where our 'Year' values are concentrated\n",
    "df[df.Year.notnull()].Year.hist(bins=40)"
   ]
  },
  {
   "cell_type": "code",
   "execution_count": 9,
   "id": "8bd2221f",
   "metadata": {},
   "outputs": [
    {
     "data": {
      "text/plain": [
       "<AxesSubplot:>"
      ]
     },
     "execution_count": 9,
     "metadata": {},
     "output_type": "execute_result"
    },
    {
     "data": {
      "image/png": "[encoded data removed]",
      "text/plain": [
       "<Figure size 432x288 with 1 Axes>"
      ]
     },
     "metadata": {
      "needs_background": "light"
     },
     "output_type": "display_data"
    }
   ],
   "source": [
    "# Visualize frequency of missingness for Abstract column\n",
    "df[df.Abstract.isnull()].Year.hist(bins=40)"
   ]
  },
  {
   "cell_type": "code",
   "execution_count": 10,
   "id": "c2ee7741",
   "metadata": {},
   "outputs": [
    {
     "data": {
      "text/plain": [
       "<AxesSubplot:>"
      ]
     },
     "execution_count": 10,
     "metadata": {},
     "output_type": "execute_result"
    },
    {
     "data": {
      "image/png": "[encoded data removed]",
      "text/plain": [
       "<Figure size 432x288 with 1 Axes>"
      ]
     },
     "metadata": {
      "needs_background": "light"
     },
     "output_type": "display_data"
    }
   ],
   "source": [
    "# Compare to frequency of non-missingness for Abstract column\n",
    "df[df.Abstract.notnull()].Year.hist(bins=40)"
   ]
  },
  {
   "cell_type": "code",
   "execution_count": 11,
   "id": "76ffc314",
   "metadata": {},
   "outputs": [
    {
     "data": {
      "text/plain": [
       "17201"
      ]
     },
     "execution_count": 11,
     "metadata": {},
     "output_type": "execute_result"
    }
   ],
   "source": [
    "len(df[(df.Abstract.notnull())])"
   ]
  },
  {
   "cell_type": "code",
   "execution_count": 12,
   "id": "f2c91555",
   "metadata": {},
   "outputs": [
    {
     "name": "stdout",
     "output_type": "stream",
     "text": [
      "Out of 17201 grants with Abstracts, 10390 of them--that's 60.4%--made their product after the year 2000.\n"
     ]
    }
   ],
   "source": [
    "# What proportion of non-missing cases occurred after the year 2000?\n",
    "total = len(df[df.Abstract.notnull()])\n",
    "numerator = len(df[(df.Abstract.notnull()) & (df.Year>2000)])\n",
    "prop = round(numerator/total*100, 1)\n",
    "\n",
    "print(f'Out of {total} grants with Abstracts, {numerator} of them--that\\'s {prop}%--made their product after the year 2000.')"
   ]
  },
  {
   "cell_type": "markdown",
   "id": "ebb2501b",
   "metadata": {},
   "source": [
    "<b>Interpretation:</b> Missing cases concentrate in the 1990s and 2000s, while cases with data concentrate more recently--in the 2010s. So it's likely that older grant products weren't required to provide Abstracts, or if they did they were not digitized correctly. Moreover, this means my analysis of Abstracts uses mostly (>60%) recent data since 2000."
   ]
  },
  {
   "cell_type": "markdown",
   "id": "b623936e",
   "metadata": {},
   "source": [
    "## Clean and filter dataset"
   ]
  },
  {
   "cell_type": "code",
   "execution_count": 13,
   "id": "c579f9e0",
   "metadata": {},
   "outputs": [],
   "source": [
    "# Filter and remove nulls\n",
    "df_small = df[['ID', 'Abstract', 'Year', 'ProductType', 'Author']].dropna(subset=['Abstract', 'Year'])\n",
    "\n",
    "# Clean up any unicode\n",
    "df_small['Abstract'] = df_small.Abstract.apply(lambda abstract: clean_unicode(abstract))\n",
    "\n",
    "# Coerce 'Year' to type 'int' (to be safe)\n",
    "df_small.Year = df_small.Year.astype(int) \n",
    "\n",
    "# Fill in null entries with 'NaN'\n",
    "df_small = df_small.fillna(np.nan)"
   ]
  },
  {
   "cell_type": "code",
   "execution_count": 14,
   "id": "b8d4576b",
   "metadata": {},
   "outputs": [
    {
     "name": "stdout",
     "output_type": "stream",
     "text": [
      "Count of rows, columns in filtered data: (10514, 5)\n",
      "These are the 5 column names:\n",
      "ID, Abstract, Year, ProductType, Author\n",
      "\n"
     ]
    },
    {
     "data": {
      "text/html": [
       "<div>\n",
       "<style scoped>\n",
       "    .dataframe tbody tr th:only-of-type {\n",
       "        vertical-align: middle;\n",
       "    }\n",
       "\n",
       "    .dataframe tbody tr th {\n",
       "        vertical-align: top;\n",
       "    }\n",
       "\n",
       "    .dataframe thead th {\n",
       "        text-align: right;\n",
       "    }\n",
       "</style>\n",
       "<table border=\"1\" class=\"dataframe\">\n",
       "  <thead>\n",
       "    <tr style=\"text-align: right;\">\n",
       "      <th></th>\n",
       "      <th>ID</th>\n",
       "      <th>Abstract</th>\n",
       "      <th>Year</th>\n",
       "      <th>ProductType</th>\n",
       "      <th>Author</th>\n",
       "    </tr>\n",
       "  </thead>\n",
       "  <tbody>\n",
       "    <tr>\n",
       "      <th>2351</th>\n",
       "      <td>10052</td>\n",
       "      <td>Describes the ongoing research and available s...</td>\n",
       "      <td>2015</td>\n",
       "      <td>Articles</td>\n",
       "      <td>Patrick Scott</td>\n",
       "    </tr>\n",
       "    <tr>\n",
       "      <th>499</th>\n",
       "      <td>4259</td>\n",
       "      <td>Ms. Mance teaches 4th grade at the Betty Shaba...</td>\n",
       "      <td>2014</td>\n",
       "      <td>CourseMaterials</td>\n",
       "      <td>Tiffany \"Mama Talibah\" Mance</td>\n",
       "    </tr>\n",
       "    <tr>\n",
       "      <th>522</th>\n",
       "      <td>4761</td>\n",
       "      <td>These curricular materials support Comanche Na...</td>\n",
       "      <td>2014</td>\n",
       "      <td>CourseMaterials</td>\n",
       "      <td>Juanita Pahdopony, Phyllis Narcomey, Jimmy Art...</td>\n",
       "    </tr>\n",
       "    <tr>\n",
       "      <th>2795</th>\n",
       "      <td>21455</td>\n",
       "      <td>Much of the existing linguistic data in many l...</td>\n",
       "      <td>2021</td>\n",
       "      <td>Articles</td>\n",
       "      <td>Shruti Rijhwani, Daisy Rosenblum, Antonios Ana...</td>\n",
       "    </tr>\n",
       "    <tr>\n",
       "      <th>3643</th>\n",
       "      <td>16221</td>\n",
       "      <td>The first book to explore the historical role ...</td>\n",
       "      <td>2020</td>\n",
       "      <td>Books</td>\n",
       "      <td>Candacy Ann Taylor</td>\n",
       "    </tr>\n",
       "    <tr>\n",
       "      <th>110</th>\n",
       "      <td>21182</td>\n",
       "      <td>The Artist-Travelers Project is an interactive...</td>\n",
       "      <td>2020</td>\n",
       "      <td>WebResources</td>\n",
       "      <td>Milwaukee Art Museum, Marquette University</td>\n",
       "    </tr>\n",
       "    <tr>\n",
       "      <th>2818</th>\n",
       "      <td>21661</td>\n",
       "      <td>This article is a case study of failure at the...</td>\n",
       "      <td>2020</td>\n",
       "      <td>Articles</td>\n",
       "      <td>Ann Pfau, Stacy Sewell</td>\n",
       "    </tr>\n",
       "    <tr>\n",
       "      <th>1854</th>\n",
       "      <td>3747</td>\n",
       "      <td>This special report on the work of a 2012 NEH ...</td>\n",
       "      <td>2013</td>\n",
       "      <td>Articles</td>\n",
       "      <td>Jonathan Rush, David J Bodenhamer, John Corrig...</td>\n",
       "    </tr>\n",
       "    <tr>\n",
       "      <th>2848</th>\n",
       "      <td>21916</td>\n",
       "      <td>During the Russian influenza pandemic, which r...</td>\n",
       "      <td>2022</td>\n",
       "      <td>Articles</td>\n",
       "      <td>E. Thomas Ewing</td>\n",
       "    </tr>\n",
       "    <tr>\n",
       "      <th>5722</th>\n",
       "      <td>508</td>\n",
       "      <td>Fred Astaire: one of the great jazz artists of...</td>\n",
       "      <td>2011</td>\n",
       "      <td>Books</td>\n",
       "      <td>Todd Decker</td>\n",
       "    </tr>\n",
       "  </tbody>\n",
       "</table>\n",
       "</div>"
      ],
      "text/plain": [
       "         ID                                           Abstract  Year  \\\n",
       "2351  10052  Describes the ongoing research and available s...  2015   \n",
       "499    4259  Ms. Mance teaches 4th grade at the Betty Shaba...  2014   \n",
       "522    4761  These curricular materials support Comanche Na...  2014   \n",
       "2795  21455  Much of the existing linguistic data in many l...  2021   \n",
       "3643  16221  The first book to explore the historical role ...  2020   \n",
       "110   21182  The Artist-Travelers Project is an interactive...  2020   \n",
       "2818  21661  This article is a case study of failure at the...  2020   \n",
       "1854   3747  This special report on the work of a 2012 NEH ...  2013   \n",
       "2848  21916  During the Russian influenza pandemic, which r...  2022   \n",
       "5722    508  Fred Astaire: one of the great jazz artists of...  2011   \n",
       "\n",
       "          ProductType                                             Author  \n",
       "2351         Articles                                      Patrick Scott  \n",
       "499   CourseMaterials                       Tiffany \"Mama Talibah\" Mance  \n",
       "522   CourseMaterials  Juanita Pahdopony, Phyllis Narcomey, Jimmy Art...  \n",
       "2795         Articles  Shruti Rijhwani, Daisy Rosenblum, Antonios Ana...  \n",
       "3643            Books                                 Candacy Ann Taylor  \n",
       "110      WebResources         Milwaukee Art Museum, Marquette University  \n",
       "2818         Articles                             Ann Pfau, Stacy Sewell  \n",
       "1854         Articles  Jonathan Rush, David J Bodenhamer, John Corrig...  \n",
       "2848         Articles                                    E. Thomas Ewing  \n",
       "5722            Books                                        Todd Decker  "
      ]
     },
     "execution_count": 14,
     "metadata": {},
     "output_type": "execute_result"
    }
   ],
   "source": [
    "print(\"Count of rows, columns in filtered data:\", df_small.shape)\n",
    "print(f\"These are the {str(len(df_small.columns))} column names:\")\n",
    "print(\", \".join([col for col in df_small.columns]))\n",
    "print()\n",
    "df_small.sample(10).iloc[:,:20] # Show first 20 columns of 10 random rows"
   ]
  },
  {
   "cell_type": "markdown",
   "id": "f90ab862",
   "metadata": {},
   "source": [
    "## Save prepared data to disk\n",
    "\n",
    "Use tab-separated format to prevent any issues with commas in the text data."
   ]
  },
  {
   "cell_type": "code",
   "execution_count": 15,
   "id": "a1a01ba1",
   "metadata": {},
   "outputs": [],
   "source": [
    "# Filter to selected columns and save\n",
    "df_small[['ID', 'Abstract', 'Year', 'ProductType']].to_csv(\n",
    "    join('../data/', 'NEH_GrantProducts_Prepared.tsv'), sep='\\t', index=False)"
   ]
  },
  {
   "cell_type": "markdown",
   "id": "c1183374",
   "metadata": {},
   "source": [
    "## Guess gender for each author"
   ]
  },
  {
   "cell_type": "code",
   "execution_count": 16,
   "id": "115fb1d4",
   "metadata": {},
   "outputs": [
    {
     "data": {
      "text/plain": [
       "unknown          3363\n",
       "male             3356\n",
       "female           3298\n",
       "mostly_female     304\n",
       "mostly_male       150\n",
       "andy               43\n",
       "Name: Gender, dtype: int64"
      ]
     },
     "execution_count": 16,
     "metadata": {},
     "output_type": "execute_result"
    }
   ],
   "source": [
    "# Guess gender for each grant recipient (based on first name only)\n",
    "d = gender.Detector()\n",
    "df_small['Gender'] = df_small.Author.apply(lambda name: d.get_gender(str(name).split()[0]))\n",
    "df_small.Gender.value_counts()"
   ]
  },
  {
   "cell_type": "code",
   "execution_count": 17,
   "id": "b68774d2",
   "metadata": {},
   "outputs": [
    {
     "data": {
      "text/plain": [
       "female    3602\n",
       "male      3506\n",
       "Name: Gender, dtype: int64"
      ]
     },
     "execution_count": 17,
     "metadata": {},
     "output_type": "execute_result"
    }
   ],
   "source": [
    "## Standardize 'Gender' column into male/female binary\n",
    "# Define dictionary to clean up standard output (mostly remove unknowns)\n",
    "gend_dict = {'unknown':np.nan,\n",
    "             'andy':np.nan,\n",
    "             'mostly_male':'male',\n",
    "             'mostly_female':'female'}\n",
    "\n",
    "# Apply dictionary to fix errors\n",
    "df_small.Gender.replace(gend_dict, \n",
    "                        regex=False, inplace=True)\n",
    "\n",
    "df_small.Gender.value_counts()"
   ]
  },
  {
   "cell_type": "code",
   "execution_count": 18,
   "id": "b54b20d8",
   "metadata": {},
   "outputs": [
    {
     "data": {
      "text/html": [
       "<div>\n",
       "<style scoped>\n",
       "    .dataframe tbody tr th:only-of-type {\n",
       "        vertical-align: middle;\n",
       "    }\n",
       "\n",
       "    .dataframe tbody tr th {\n",
       "        vertical-align: top;\n",
       "    }\n",
       "\n",
       "    .dataframe thead th {\n",
       "        text-align: right;\n",
       "    }\n",
       "</style>\n",
       "<table border=\"1\" class=\"dataframe\">\n",
       "  <thead>\n",
       "    <tr style=\"text-align: right;\">\n",
       "      <th></th>\n",
       "      <th>Author</th>\n",
       "      <th>Gender</th>\n",
       "    </tr>\n",
       "  </thead>\n",
       "  <tbody>\n",
       "    <tr>\n",
       "      <th>1592</th>\n",
       "      <td>Katherine Reinhart, Sietske Fransen</td>\n",
       "      <td>female</td>\n",
       "    </tr>\n",
       "    <tr>\n",
       "      <th>412</th>\n",
       "      <td>POWRR Instructors</td>\n",
       "      <td>NaN</td>\n",
       "    </tr>\n",
       "    <tr>\n",
       "      <th>179</th>\n",
       "      <td>Kiran Kumbhar</td>\n",
       "      <td>female</td>\n",
       "    </tr>\n",
       "    <tr>\n",
       "      <th>4060</th>\n",
       "      <td>Isaac Weiner</td>\n",
       "      <td>male</td>\n",
       "    </tr>\n",
       "    <tr>\n",
       "      <th>79</th>\n",
       "      <td>Anne T. Woollett, Austeja Mackelaite, John T. ...</td>\n",
       "      <td>female</td>\n",
       "    </tr>\n",
       "    <tr>\n",
       "      <th>1247</th>\n",
       "      <td>Doug Davis</td>\n",
       "      <td>male</td>\n",
       "    </tr>\n",
       "    <tr>\n",
       "      <th>1164</th>\n",
       "      <td>NaN</td>\n",
       "      <td>NaN</td>\n",
       "    </tr>\n",
       "    <tr>\n",
       "      <th>2256</th>\n",
       "      <td>B. Russell, J. Leidwanger</td>\n",
       "      <td>NaN</td>\n",
       "    </tr>\n",
       "    <tr>\n",
       "      <th>2602</th>\n",
       "      <td>Marcia Kupfer</td>\n",
       "      <td>female</td>\n",
       "    </tr>\n",
       "    <tr>\n",
       "      <th>431</th>\n",
       "      <td>Hadiya Sewer</td>\n",
       "      <td>NaN</td>\n",
       "    </tr>\n",
       "  </tbody>\n",
       "</table>\n",
       "</div>"
      ],
      "text/plain": [
       "                                                 Author  Gender\n",
       "1592                Katherine Reinhart, Sietske Fransen  female\n",
       "412                                   POWRR Instructors     NaN\n",
       "179                                       Kiran Kumbhar  female\n",
       "4060                                       Isaac Weiner    male\n",
       "79    Anne T. Woollett, Austeja Mackelaite, John T. ...  female\n",
       "1247                                         Doug Davis    male\n",
       "1164                                                NaN     NaN\n",
       "2256                          B. Russell, J. Leidwanger     NaN\n",
       "2602                                      Marcia Kupfer  female\n",
       "431                                        Hadiya Sewer     NaN"
      ]
     },
     "execution_count": 18,
     "metadata": {},
     "output_type": "execute_result"
    }
   ],
   "source": [
    "# Check out 10 random names to see how well this works\n",
    "df_small.sample(10)[['Author', 'Gender']]"
   ]
  },
  {
   "cell_type": "code",
   "execution_count": 19,
   "id": "8fa76c03",
   "metadata": {},
   "outputs": [
    {
     "data": {
      "text/plain": [
       "<AxesSubplot:>"
      ]
     },
     "execution_count": 19,
     "metadata": {},
     "output_type": "execute_result"
    },
    {
     "data": {
      "image/png": "[encoded data removed]",
      "text/plain": [
       "<Figure size 432x288 with 1 Axes>"
      ]
     },
     "metadata": {
      "needs_background": "light"
     },
     "output_type": "display_data"
    }
   ],
   "source": [
    "# Visualize frequency of missingness for Gender column\n",
    "df_small[df_small.Gender.isnull()].Year.hist(bins=40)"
   ]
  },
  {
   "cell_type": "code",
   "execution_count": 20,
   "id": "10b745b6",
   "metadata": {},
   "outputs": [
    {
     "data": {
      "text/plain": [
       "<AxesSubplot:>"
      ]
     },
     "execution_count": 20,
     "metadata": {},
     "output_type": "execute_result"
    },
    {
     "data": {
      "image/png": "[encoded data removed]",
      "text/plain": [
       "<Figure size 432x288 with 1 Axes>"
      ]
     },
     "metadata": {
      "needs_background": "light"
     },
     "output_type": "display_data"
    }
   ],
   "source": [
    "# Compare to frequency of non-missingness for Gender column\n",
    "df_small[df_small.Gender.notnull()].Year.hist(bins=40)"
   ]
  },
  {
   "cell_type": "code",
   "execution_count": 21,
   "id": "b0f14964",
   "metadata": {},
   "outputs": [],
   "source": [
    "# Filter to selected columns and remove empties\n",
    "df_small = df_small[['ID', 'Abstract', 'Year', 'ProductType', 'Gender']].dropna(\n",
    "    subset=['Abstract', 'Year', 'Gender'])"
   ]
  },
  {
   "cell_type": "code",
   "execution_count": 22,
   "id": "9649e26d",
   "metadata": {},
   "outputs": [
    {
     "data": {
      "text/plain": [
       "0       parallel vetted publication of the neh sponsor...\n",
       "1       this comparative study of late nineteenth cent...\n",
       "2       this comparative spatial history combines hist...\n",
       "3       one of the early drivers of historical gis was...\n",
       "4       a wilderness, as defined by the 1964 congressi...\n",
       "                              ...                        \n",
       "1406    the kennywood grant project instagram post cre...\n",
       "1407    the kennywood grant project facebook post crea...\n",
       "1408    the kennywood park records digital collection ...\n",
       "1412    the online finding aid for the kennywood park ...\n",
       "1413          marc record for the kennywood park records.\n",
       "Name: Abstract, Length: 7108, dtype: object"
      ]
     },
     "execution_count": 22,
     "metadata": {},
     "output_type": "execute_result"
    }
   ],
   "source": [
    "import nltk\n",
    "ps = nltk.stem.PorterStemmer()\n",
    "df_small.Abstract.apply(lambda abstract: ps.stem(abstract))"
   ]
  },
  {
   "cell_type": "markdown",
   "id": "d8142a87",
   "metadata": {},
   "source": [
    "## Save prepared data _with gender_ to disk"
   ]
  },
  {
   "cell_type": "code",
   "execution_count": 23,
   "id": "e14fa64e",
   "metadata": {},
   "outputs": [],
   "source": [
    "df_small.to_csv(join('../data/', 'NEH_GrantProducts_Prepared_w_Gender.tsv'), sep='\\t', index=False)"
   ]
  }
 ],
 "metadata": {
  "kernelspec": {
   "display_name": "Python 3 (ipykernel)",
   "language": "python",
   "name": "python3"
  },
  "language_info": {
   "codemirror_mode": {
    "name": "ipython",
    "version": 3
   },
   "file_extension": ".py",
   "mimetype": "text/x-python",
   "name": "python",
   "nbconvert_exporter": "python",
   "pygments_lexer": "ipython3",
   "version": "3.9.6"
  }
 },
 "nbformat": 4,
 "nbformat_minor": 5
}
