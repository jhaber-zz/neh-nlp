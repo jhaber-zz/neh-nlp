{
 "cells": [
  {
   "cell_type": "markdown",
   "id": "16bb9e8b",
   "metadata": {},
   "source": [
    "# Prepare NEH Grant Products Data\n",
    "\n",
    "<b>Author:</b> Jaren Haber, PhD </br>\n",
    "<b>Date</b>: September 16, 2023 </br>\n",
    "<b>Description</b>: This notebook imports NEH grant product data from the web and combines the different products into a single, large DataFrame. <br/>"
   ]
  },
  {
   "cell_type": "markdown",
   "id": "4951fa39",
   "metadata": {},
   "source": [
    "## Initialize"
   ]
  },
  {
   "cell_type": "code",
   "execution_count": 1,
   "id": "7b9409f6",
   "metadata": {},
   "outputs": [],
   "source": [
    "# Import packages\n",
    "import pandas as pd\n",
    "import numpy as np\n",
    "from os.path import join\n",
    "\n",
    "# Import local function(s)\n",
    "from utils import get_unzip"
   ]
  },
  {
   "cell_type": "markdown",
   "id": "4ef5f39c",
   "metadata": {},
   "source": [
    "## Import data from web"
   ]
  },
  {
   "cell_type": "code",
   "execution_count": 2,
   "id": "8a5f9ee0",
   "metadata": {},
   "outputs": [],
   "source": [
    "# Define URL of zipped file\n",
    "data_url = 'https://apps.neh.gov/open/data/NEH_GrantProducts.zip'\n",
    "fpath = '../data'\n",
    "\n",
    "# Download zipped file and extract\n",
    "get_unzip(data_url, fpath)"
   ]
  },
  {
   "cell_type": "markdown",
   "id": "fe51944e",
   "metadata": {},
   "source": [
    "## Combine data for all product types"
   ]
  },
  {
   "cell_type": "code",
   "execution_count": 3,
   "id": "2e23e398",
   "metadata": {},
   "outputs": [],
   "source": [
    "# Define file suffixes for grant product types\n",
    "product_types = [\n",
    "    'Collections', \n",
    "    'Articles', \n",
    "    'BlogPosts', \n",
    "    'Books', \n",
    "    'BookSections', \n",
    "    'Buildings', \n",
    "    'Catalogs', \n",
    "    'Centers', \n",
    "    'ComputerPrograms', \n",
    "    'ConferencePresentations', \n",
    "    'ConferenceInstituteSeminars', \n",
    "    'CourseMaterials', \n",
    "    'DatabaseEditions', \n",
    "    'Equipment', \n",
    "    'Exhibitions', \n",
    "    'FilmBroadcasts', \n",
    "    'Games', \n",
    "    'OpenAccessItems', \n",
    "    'Presentations', \n",
    "    'RadioBroadcasts', \n",
    "    'Reports', \n",
    "    'Scripts', \n",
    "    'Positions', \n",
    "    'WebResources'\n",
    "]"
   ]
  },
  {
   "cell_type": "code",
   "execution_count": 4,
   "id": "164a6859",
   "metadata": {},
   "outputs": [],
   "source": [
    "## Load each product type and combine into one large DataFrame\n",
    "dfs = [] # Create empty list for grant product DataFrames\n",
    "\n",
    "# Loop over product types and add to long list of DFs\n",
    "for product in product_types: \n",
    "    product_df = pd.read_xml(join('../data/NEH_GrantProducts', f'NEH_{product}.xml'))\n",
    "    product_df['ProductType'] = product\n",
    "    dfs.append(product_df)\n",
    "    \n",
    "df = pd.concat(dfs) # Combine DFs"
   ]
  },
  {
   "cell_type": "code",
   "execution_count": 5,
   "id": "d6d0170b",
   "metadata": {
    "scrolled": false
   },
   "outputs": [
    {
     "name": "stdout",
     "output_type": "stream",
     "text": [
      "Count of rows, columns in full data: (22609, 44)\n",
      "These are the 44 column names:\n",
      "ID, ApplicationNumber, Abstract, Address, Director, Name, PrimaryURL, PrimaryURLDescription, SecondaryURL, SecondaryURLDescription, Year, ProductType, AccessModel, Author, Format, PeriodicalTitle, Publisher, Title, BlogTitle, Date, Website, Editor, ISBN, Translator, Type, BookTitle, CatalogType, ProgrammingLanguage_Platform, SourceAvailable, ConferenceName, DateRange, Location, Audience, Description, Curator, Producer, Writer, PublicationType, URL3, URL3Description, URL4, URL4Description, URL5, URL5Description\n",
      "\n"
     ]
    },
    {
     "data": {
      "text/html": [
       "<div>\n",
       "<style scoped>\n",
       "    .dataframe tbody tr th:only-of-type {\n",
       "        vertical-align: middle;\n",
       "    }\n",
       "\n",
       "    .dataframe tbody tr th {\n",
       "        vertical-align: top;\n",
       "    }\n",
       "\n",
       "    .dataframe thead th {\n",
       "        text-align: right;\n",
       "    }\n",
       "</style>\n",
       "<table border=\"1\" class=\"dataframe\">\n",
       "  <thead>\n",
       "    <tr style=\"text-align: right;\">\n",
       "      <th></th>\n",
       "      <th>ID</th>\n",
       "      <th>ApplicationNumber</th>\n",
       "      <th>Abstract</th>\n",
       "      <th>Address</th>\n",
       "      <th>Director</th>\n",
       "      <th>Name</th>\n",
       "      <th>PrimaryURL</th>\n",
       "      <th>PrimaryURLDescription</th>\n",
       "      <th>SecondaryURL</th>\n",
       "      <th>SecondaryURLDescription</th>\n",
       "      <th>Year</th>\n",
       "      <th>ProductType</th>\n",
       "      <th>AccessModel</th>\n",
       "      <th>Author</th>\n",
       "      <th>Format</th>\n",
       "      <th>PeriodicalTitle</th>\n",
       "      <th>Publisher</th>\n",
       "      <th>Title</th>\n",
       "      <th>BlogTitle</th>\n",
       "      <th>Date</th>\n",
       "    </tr>\n",
       "  </thead>\n",
       "  <tbody>\n",
       "    <tr>\n",
       "      <th>4837</th>\n",
       "      <td>9423</td>\n",
       "      <td>FE-20398-86</td>\n",
       "      <td>None</td>\n",
       "      <td>NaN</td>\n",
       "      <td>NaN</td>\n",
       "      <td>NaN</td>\n",
       "      <td>None</td>\n",
       "      <td>None</td>\n",
       "      <td>None</td>\n",
       "      <td>None</td>\n",
       "      <td>0.0</td>\n",
       "      <td>Books</td>\n",
       "      <td>None</td>\n",
       "      <td>Weiss, Susan Forscher</td>\n",
       "      <td>NaN</td>\n",
       "      <td>NaN</td>\n",
       "      <td>UNAVAILABLE</td>\n",
       "      <td>MIML: Musical Instruction and Musical Learning</td>\n",
       "      <td>NaN</td>\n",
       "      <td>NaN</td>\n",
       "    </tr>\n",
       "    <tr>\n",
       "      <th>5836</th>\n",
       "      <td>10929</td>\n",
       "      <td>FA-53215-07</td>\n",
       "      <td>In Machiavelli's Politics I argue that he pres...</td>\n",
       "      <td>NaN</td>\n",
       "      <td>NaN</td>\n",
       "      <td>NaN</td>\n",
       "      <td>None</td>\n",
       "      <td>None</td>\n",
       "      <td>None</td>\n",
       "      <td>None</td>\n",
       "      <td>2017.0</td>\n",
       "      <td>Books</td>\n",
       "      <td>None</td>\n",
       "      <td>Catherine H. Zuckert</td>\n",
       "      <td>NaN</td>\n",
       "      <td>NaN</td>\n",
       "      <td>University of Chicago Press</td>\n",
       "      <td>MACHIAVELLI'S POLITICS</td>\n",
       "      <td>NaN</td>\n",
       "      <td>NaN</td>\n",
       "    </tr>\n",
       "    <tr>\n",
       "      <th>269</th>\n",
       "      <td>22065</td>\n",
       "      <td>TR-266364-19</td>\n",
       "      <td>Astrophysicist, folklorist, &amp;amp; science comm...</td>\n",
       "      <td>NaN</td>\n",
       "      <td>None</td>\n",
       "      <td>NaN</td>\n",
       "      <td>http://publish.prx.org/story/394343</td>\n",
       "      <td>PRX podcast</td>\n",
       "      <td>None</td>\n",
       "      <td>None</td>\n",
       "      <td>NaN</td>\n",
       "      <td>RadioBroadcasts</td>\n",
       "      <td>Free</td>\n",
       "      <td>NaN</td>\n",
       "      <td>Digital File</td>\n",
       "      <td>NaN</td>\n",
       "      <td>NaN</td>\n",
       "      <td>World-building in Sci-fi and Fantasy with Dr. ...</td>\n",
       "      <td>NaN</td>\n",
       "      <td>2022</td>\n",
       "    </tr>\n",
       "    <tr>\n",
       "      <th>2874</th>\n",
       "      <td>8036</td>\n",
       "      <td>FA-*0092-80</td>\n",
       "      <td>None</td>\n",
       "      <td>NaN</td>\n",
       "      <td>NaN</td>\n",
       "      <td>NaN</td>\n",
       "      <td>https://www.worldcat.org/search?q=9780824819910</td>\n",
       "      <td>WorldCat entry</td>\n",
       "      <td>None</td>\n",
       "      <td>None</td>\n",
       "      <td>1987.0</td>\n",
       "      <td>Books</td>\n",
       "      <td>None</td>\n",
       "      <td>Najita, Tetsuo</td>\n",
       "      <td>NaN</td>\n",
       "      <td>NaN</td>\n",
       "      <td>Chicago: University of Chicago Press</td>\n",
       "      <td>Visions of Virtue in Tkugawa Japan</td>\n",
       "      <td>NaN</td>\n",
       "      <td>NaN</td>\n",
       "    </tr>\n",
       "    <tr>\n",
       "      <th>50</th>\n",
       "      <td>349</td>\n",
       "      <td>RA-50003-03</td>\n",
       "      <td>The middle decades of the sixteenth century wi...</td>\n",
       "      <td>NaN</td>\n",
       "      <td>NaN</td>\n",
       "      <td>NaN</td>\n",
       "      <td>None</td>\n",
       "      <td>None</td>\n",
       "      <td>None</td>\n",
       "      <td>None</td>\n",
       "      <td>2008.0</td>\n",
       "      <td>Articles</td>\n",
       "      <td>None</td>\n",
       "      <td>Casale, Giancarlo</td>\n",
       "      <td>Journal</td>\n",
       "      <td>Itinerario</td>\n",
       "      <td>None</td>\n",
       "      <td>Ottoman Guerre de Course and the Intercontinen...</td>\n",
       "      <td>NaN</td>\n",
       "      <td>NaN</td>\n",
       "    </tr>\n",
       "  </tbody>\n",
       "</table>\n",
       "</div>"
      ],
      "text/plain": [
       "         ID ApplicationNumber  \\\n",
       "4837   9423       FE-20398-86   \n",
       "5836  10929       FA-53215-07   \n",
       "269   22065      TR-266364-19   \n",
       "2874   8036       FA-*0092-80   \n",
       "50      349       RA-50003-03   \n",
       "\n",
       "                                               Abstract Address Director Name  \\\n",
       "4837                                               None     NaN      NaN  NaN   \n",
       "5836  In Machiavelli's Politics I argue that he pres...     NaN      NaN  NaN   \n",
       "269   Astrophysicist, folklorist, &amp; science comm...     NaN     None  NaN   \n",
       "2874                                               None     NaN      NaN  NaN   \n",
       "50    The middle decades of the sixteenth century wi...     NaN      NaN  NaN   \n",
       "\n",
       "                                           PrimaryURL PrimaryURLDescription  \\\n",
       "4837                                             None                  None   \n",
       "5836                                             None                  None   \n",
       "269               http://publish.prx.org/story/394343           PRX podcast   \n",
       "2874  https://www.worldcat.org/search?q=9780824819910        WorldCat entry   \n",
       "50                                               None                  None   \n",
       "\n",
       "     SecondaryURL SecondaryURLDescription    Year      ProductType  \\\n",
       "4837         None                    None     0.0            Books   \n",
       "5836         None                    None  2017.0            Books   \n",
       "269          None                    None     NaN  RadioBroadcasts   \n",
       "2874         None                    None  1987.0            Books   \n",
       "50           None                    None  2008.0         Articles   \n",
       "\n",
       "     AccessModel                 Author        Format PeriodicalTitle  \\\n",
       "4837        None  Weiss, Susan Forscher           NaN             NaN   \n",
       "5836        None   Catherine H. Zuckert           NaN             NaN   \n",
       "269         Free                    NaN  Digital File             NaN   \n",
       "2874        None         Najita, Tetsuo           NaN             NaN   \n",
       "50          None      Casale, Giancarlo       Journal      Itinerario   \n",
       "\n",
       "                                 Publisher  \\\n",
       "4837                           UNAVAILABLE   \n",
       "5836           University of Chicago Press   \n",
       "269                                    NaN   \n",
       "2874  Chicago: University of Chicago Press   \n",
       "50                                    None   \n",
       "\n",
       "                                                  Title BlogTitle  Date  \n",
       "4837     MIML: Musical Instruction and Musical Learning       NaN   NaN  \n",
       "5836                             MACHIAVELLI'S POLITICS       NaN   NaN  \n",
       "269   World-building in Sci-fi and Fantasy with Dr. ...       NaN  2022  \n",
       "2874                 Visions of Virtue in Tkugawa Japan       NaN   NaN  \n",
       "50    Ottoman Guerre de Course and the Intercontinen...       NaN   NaN  "
      ]
     },
     "execution_count": 5,
     "metadata": {},
     "output_type": "execute_result"
    }
   ],
   "source": [
    "# Inspect full data\n",
    "print(\"Count of rows, columns in full data:\", df.shape)\n",
    "print(f\"These are the {str(len(df.columns))} column names:\")\n",
    "print(\", \".join([col for col in df.columns]))\n",
    "print()\n",
    "df.sample(5).iloc[:,:20] # Show first 20 columns of 5 random rows"
   ]
  },
  {
   "cell_type": "markdown",
   "id": "f4f35a2c",
   "metadata": {},
   "source": [
    "## Clean up `Abstract` and `Year` columns"
   ]
  },
  {
   "cell_type": "code",
   "execution_count": 6,
   "id": "73d93775",
   "metadata": {},
   "outputs": [
    {
     "data": {
      "text/plain": [
       "Presented at the conference \"Flannery O'Connor and Other Southern Women Writers\" at Georgia College in Milledgeville, GA.                                                                                                                                                                                                                                                                                                                                                                                                                                                                                                                                                                                                                              22\n",
       "Emmy Award                                                                                                                                                                                                                                                                                                                                                                                                                                                                                                                                                                                                                                                                                                                                             16\n",
       "Peabody Award                                                                                                                                                                                                                                                                                                                                                                                                                                                                                                                                                                                                                                                                                                                                          15\n",
       "Multi-media presentation about the life and career of Bessie Margolin                                                                                                                                                                                                                                                                                                                                                                                                                                                                                                                                                                                                                                                                                  11\n",
       "Project website for summer 2012 NEH Landmarks of American History and Culture Workshops.                                                                                                                                                                                                                                                                                                                                                                                                                                                                                                                                                                                                                                                               11\n",
       "Some philosophers, the 'anti-individualists,' believe that all fundamental facts are purely qualitative. They could in principle be stated without mentioning any specific individual by name. Other philosophers, the 'individualists,' believe that the fundamental facts also include facts about which individuals exist and how the qualitative properties and relations are distributed over them. Anti-individualists are committed to the idea that all facts supervene on the qualitative facts. I argue that that thesis yields implausible consequences in the theory of chance and counterfactuals. Ultimately, individualism carries the day.                                                                                              9\n",
       "Social Science History Association                                                                                                                                                                                                                                                                                                                                                                                                                                                                                                                                                                                                                                                                                                                      8\n",
       "This event served as one in a series of public design charrettes that allowed us to take a public collaborative approach to designing the public web interface for the project. Observing public interactions with beta versions of our software allowed us to gain understanding of users' needs and goals, and to iteratively develop and evaluate the designs . Each charrette included a process evaluation protocol consisting of close observation of charrette interactions, structured note-taking, and post-charrette debriefing sessions.                                                                                                                                                                                                     7\n",
       "Project team members staffed a booth at this public event with tablets and touchscreen kiosks running the Keweenaw Time Traveler web interface. Staff introduced visitors to the project and gave guided tours of the interface. Staff recorded visitor interactions through note-taking and added this data to the feedback generated through the design charrettes to aid in directing interface development.                                                                                                                                                                                                                                                                                                                                         7\n",
       "Book                                                                                                                                                                                                                                                                                                                                                                                                                                                                                                                                                                                                                                                                                                                                                    6\n",
       "We re-versioned this episode for national radio broadcast on The World public radio program.                                                                                                                                                                                                                                                                                                                                                                                                                                                                                                                                                                                                                                                            6\n",
       "Online column                                                                                                                                                                                                                                                                                                                                                                                                                                                                                                                                                                                                                                                                                                                                           6\n",
       "Since its release in February 2015, the MLA's report Enrollments in Languages Other Than English in United States Institutions of Higher Education, Fall 2013 has received coverage in the Washington Post, Inside Higher Ed, and numerous university and regional outlets, as well as some international publications. While enrollments in language courses have increased 11.9% since 2002, the 2013 survey showed a decline of 6.7% since 2009—the year of the last survey. What does this most recent shift downward tell us about current trends in the study of languages in higher education? Are there new arguments to be made for the importance of learning a foreign language in a global economy? Which are the new trendy languages?     6\n",
       "Name: Abstract, dtype: int64"
      ]
     },
     "execution_count": 6,
     "metadata": {},
     "output_type": "execute_result"
    }
   ],
   "source": [
    "## Clean up 'Abstract' column: many null entries (don't remove empties for now)\n",
    "# Define dictionary containing specific 'no abstract' language\n",
    "null_dict = {'^([Nn]o\\s+)?[Aa]bstract\\s?(not\\s+)?(provided|available)?\\.?$':np.nan,\n",
    "             '^[Nn]o[tn]e? available\\.?$':np.nan,\n",
    "             #'^(Emmy|Peabody) [Aa]ward$':np.nan, \n",
    "             '^do not have$':np.nan,\n",
    "             '^\\s+?available$':np.nan,\n",
    "             #'^[Bb]ook$':np.nan,\n",
    "             '^[Nn]one$':np.nan,\n",
    "             '^Forthcoming$':np.nan,\n",
    "             '^xx$':np.nan, \n",
    "             '^[Nn]a[Nn]?\\.?$':np.nan,\n",
    "             '^\\-$':np.nan,\n",
    "             '^\\.$':np.nan}\n",
    "\n",
    "# Use dictionary to replace nulls with empties\n",
    "df.Abstract.replace(null_dict, \n",
    "                    regex=True, inplace=True)\n",
    "\n",
    "df.Abstract.value_counts().loc[lambda row: row>5] # Examine any values above 5"
   ]
  },
  {
   "cell_type": "code",
   "execution_count": 7,
   "id": "953337ee",
   "metadata": {},
   "outputs": [
    {
     "data": {
      "text/plain": [
       "1950.0    1\n",
       "1957.0    1\n",
       "1965.0    1\n",
       "1968.0    1\n",
       "2025.0    1\n",
       "Name: Year, dtype: int64"
      ]
     },
     "execution_count": 7,
     "metadata": {},
     "output_type": "execute_result"
    }
   ],
   "source": [
    "## Clean up 'Year' column: some erroneous entries\n",
    "# Define dictionary to replace errors with corrected values\n",
    "year_dict = {199:1990,\n",
    "             201:2010,\n",
    "             202:2021,\n",
    "             208:2018,\n",
    "             1916:2016,\n",
    "             2106:2016,\n",
    "             1915:2015,\n",
    "             1913:2013,\n",
    "             0:np.nan}\n",
    "\n",
    "# Apply dictionary to fix errors\n",
    "df.Year.replace(year_dict, \n",
    "                regex=True, inplace=True)\n",
    "\n",
    "df.Year.value_counts().sort_index().loc[lambda row: row==1] # Examine any values that occur just once"
   ]
  },
  {
   "cell_type": "markdown",
   "id": "9296030e",
   "metadata": {},
   "source": [
    "## Examine missingness for `Abstract`"
   ]
  },
  {
   "cell_type": "code",
   "execution_count": 8,
   "id": "1bc772c2",
   "metadata": {},
   "outputs": [
    {
     "data": {
      "text/plain": [
       "<AxesSubplot:>"
      ]
     },
     "execution_count": 8,
     "metadata": {},
     "output_type": "execute_result"
    },
    {
     "data": {
      "image/png": "[encoded data removed]",
      "text/plain": [
       "<Figure size 432x288 with 1 Axes>"
      ]
     },
     "metadata": {
      "needs_background": "light"
     },
     "output_type": "display_data"
    }
   ],
   "source": [
    "# As baseline, see where our 'Year' values are concentrated\n",
    "df[df.Year.notnull()].Year.hist(bins=40)"
   ]
  },
  {
   "cell_type": "code",
   "execution_count": 9,
   "id": "65afe5b1",
   "metadata": {},
   "outputs": [
    {
     "data": {
      "text/plain": [
       "<AxesSubplot:>"
      ]
     },
     "execution_count": 9,
     "metadata": {},
     "output_type": "execute_result"
    },
    {
     "data": {
      "image/png": "[encoded data removed]",
      "text/plain": [
       "<Figure size 432x288 with 1 Axes>"
      ]
     },
     "metadata": {
      "needs_background": "light"
     },
     "output_type": "display_data"
    }
   ],
   "source": [
    "# Visualize frequency of missingness for Abstract column\n",
    "df[df.Abstract.isnull()].Year.hist(bins=40)"
   ]
  },
  {
   "cell_type": "code",
   "execution_count": 10,
   "id": "f474ad67",
   "metadata": {},
   "outputs": [
    {
     "data": {
      "text/plain": [
       "<AxesSubplot:>"
      ]
     },
     "execution_count": 10,
     "metadata": {},
     "output_type": "execute_result"
    },
    {
     "data": {
      "image/png": "[encoded data removed]",
      "text/plain": [
       "<Figure size 432x288 with 1 Axes>"
      ]
     },
     "metadata": {
      "needs_background": "light"
     },
     "output_type": "display_data"
    }
   ],
   "source": [
    "# Compare to frequency of non-missingness for Abstract column\n",
    "df[df.Abstract.notnull()].Year.hist(bins=40)"
   ]
  },
  {
   "cell_type": "code",
   "execution_count": 11,
   "id": "f68bf38e",
   "metadata": {},
   "outputs": [
    {
     "data": {
      "text/plain": [
       "17201"
      ]
     },
     "execution_count": 11,
     "metadata": {},
     "output_type": "execute_result"
    }
   ],
   "source": [
    "len(df[(df.Abstract.notnull())])"
   ]
  },
  {
   "cell_type": "code",
   "execution_count": 12,
   "id": "523061f3",
   "metadata": {},
   "outputs": [
    {
     "name": "stdout",
     "output_type": "stream",
     "text": [
      "Out of 17201 grants with Abstracts, 10390 of them--that's 60.4%--made their product after the year 2000.\n"
     ]
    }
   ],
   "source": [
    "# What proportion of non-missing cases occurred after the year 2000?\n",
    "total = len(df[df.Abstract.notnull()])\n",
    "numerator = len(df[(df.Abstract.notnull()) & (df.Year>2000)])\n",
    "prop = round(numerator/total*100, 1)\n",
    "\n",
    "print(f'Out of {total} grants with Abstracts, {numerator} of them--that\\'s {prop}%--made their product after the year 2000.')"
   ]
  },
  {
   "cell_type": "markdown",
   "id": "721813af",
   "metadata": {},
   "source": [
    "<b>Interpretation:</b> Missing cases concentrate in the 1990s and 2000s, while cases with data concentrate more recently--in the 2010s. So it's likely that older grant products weren't required to provide Abstracts, or if they did they were not digitized correctly. Moreover, this means my analysis of Abstracts uses mostly (>60%) recent data since 2000."
   ]
  },
  {
   "cell_type": "markdown",
   "id": "67872e37",
   "metadata": {},
   "source": [
    "## Clean and filter dataset"
   ]
  },
  {
   "cell_type": "code",
   "execution_count": 13,
   "id": "9b0505b4",
   "metadata": {},
   "outputs": [],
   "source": [
    "# Filter and remove nulls\n",
    "df_small = df[['ID', 'Abstract', 'Year', 'ProductType']].dropna(subset=['Abstract', 'Year'])\n",
    "\n",
    "# Clean up spacing: replace tabs with spaces (to simplify saving output)\n",
    "df_small['Abstract'] = df_small['Abstract'].replace(r'\\t+', ' ', regex=True)\n",
    "\n",
    "# Coerce 'Year' to type 'int' (to be safe)\n",
    "df_small.Year = df_small.Year.astype(int) \n",
    "\n",
    "# Fill in null entries with 'NaN'\n",
    "df_small = df_small.fillna(np.nan)"
   ]
  },
  {
   "cell_type": "code",
   "execution_count": 14,
   "id": "eb5cae3d",
   "metadata": {},
   "outputs": [
    {
     "name": "stdout",
     "output_type": "stream",
     "text": [
      "Count of rows, columns in filtered data: (10514, 4)\n",
      "These are the 4 column names:\n",
      "ID, Abstract, Year, ProductType\n",
      "\n"
     ]
    },
    {
     "data": {
      "text/html": [
       "<div>\n",
       "<style scoped>\n",
       "    .dataframe tbody tr th:only-of-type {\n",
       "        vertical-align: middle;\n",
       "    }\n",
       "\n",
       "    .dataframe tbody tr th {\n",
       "        vertical-align: top;\n",
       "    }\n",
       "\n",
       "    .dataframe thead th {\n",
       "        text-align: right;\n",
       "    }\n",
       "</style>\n",
       "<table border=\"1\" class=\"dataframe\">\n",
       "  <thead>\n",
       "    <tr style=\"text-align: right;\">\n",
       "      <th></th>\n",
       "      <th>ID</th>\n",
       "      <th>Abstract</th>\n",
       "      <th>Year</th>\n",
       "      <th>ProductType</th>\n",
       "    </tr>\n",
       "  </thead>\n",
       "  <tbody>\n",
       "    <tr>\n",
       "      <th>509</th>\n",
       "      <td>22719</td>\n",
       "      <td>original song inspired by participant's conver...</td>\n",
       "      <td>2022</td>\n",
       "      <td>FilmBroadcasts</td>\n",
       "    </tr>\n",
       "    <tr>\n",
       "      <th>118</th>\n",
       "      <td>21245</td>\n",
       "      <td>The Museum developed template press releases f...</td>\n",
       "      <td>2021</td>\n",
       "      <td>WebResources</td>\n",
       "    </tr>\n",
       "    <tr>\n",
       "      <th>1361</th>\n",
       "      <td>20512</td>\n",
       "      <td>Links to various SENCOTEN tools:  How to Prono...</td>\n",
       "      <td>2016</td>\n",
       "      <td>WebResources</td>\n",
       "    </tr>\n",
       "    <tr>\n",
       "      <th>368</th>\n",
       "      <td>12370</td>\n",
       "      <td>The question with which Yeats closed his medit...</td>\n",
       "      <td>2015</td>\n",
       "      <td>Articles</td>\n",
       "    </tr>\n",
       "    <tr>\n",
       "      <th>6041</th>\n",
       "      <td>11388</td>\n",
       "      <td>In his well-received CVIC IDEAS, tracing the h...</td>\n",
       "      <td>2007</td>\n",
       "      <td>Books</td>\n",
       "    </tr>\n",
       "    <tr>\n",
       "      <th>6310</th>\n",
       "      <td>22316</td>\n",
       "      <td>In the mid-1800s, daguerreotypist Thomas Easte...</td>\n",
       "      <td>2023</td>\n",
       "      <td>Books</td>\n",
       "    </tr>\n",
       "    <tr>\n",
       "      <th>6014</th>\n",
       "      <td>5060</td>\n",
       "      <td>Jack Levine, George Segal, Audrey Flack, Larry...</td>\n",
       "      <td>2014</td>\n",
       "      <td>Books</td>\n",
       "    </tr>\n",
       "    <tr>\n",
       "      <th>705</th>\n",
       "      <td>13548</td>\n",
       "      <td>pp. 359-75</td>\n",
       "      <td>2016</td>\n",
       "      <td>BookSections</td>\n",
       "    </tr>\n",
       "    <tr>\n",
       "      <th>2832</th>\n",
       "      <td>21776</td>\n",
       "      <td>forthcoming</td>\n",
       "      <td>2022</td>\n",
       "      <td>Articles</td>\n",
       "    </tr>\n",
       "    <tr>\n",
       "      <th>831</th>\n",
       "      <td>17481</td>\n",
       "      <td>An online encyclopedia that brings together sc...</td>\n",
       "      <td>2013</td>\n",
       "      <td>WebResources</td>\n",
       "    </tr>\n",
       "  </tbody>\n",
       "</table>\n",
       "</div>"
      ],
      "text/plain": [
       "         ID                                           Abstract  Year  \\\n",
       "509   22719  original song inspired by participant's conver...  2022   \n",
       "118   21245  The Museum developed template press releases f...  2021   \n",
       "1361  20512  Links to various SENCOTEN tools:  How to Prono...  2016   \n",
       "368   12370  The question with which Yeats closed his medit...  2015   \n",
       "6041  11388  In his well-received CVIC IDEAS, tracing the h...  2007   \n",
       "6310  22316  In the mid-1800s, daguerreotypist Thomas Easte...  2023   \n",
       "6014   5060  Jack Levine, George Segal, Audrey Flack, Larry...  2014   \n",
       "705   13548                                         pp. 359-75  2016   \n",
       "2832  21776                                        forthcoming  2022   \n",
       "831   17481  An online encyclopedia that brings together sc...  2013   \n",
       "\n",
       "         ProductType  \n",
       "509   FilmBroadcasts  \n",
       "118     WebResources  \n",
       "1361    WebResources  \n",
       "368         Articles  \n",
       "6041           Books  \n",
       "6310           Books  \n",
       "6014           Books  \n",
       "705     BookSections  \n",
       "2832        Articles  \n",
       "831     WebResources  "
      ]
     },
     "execution_count": 14,
     "metadata": {},
     "output_type": "execute_result"
    }
   ],
   "source": [
    "print(\"Count of rows, columns in filtered data:\", df_small.shape)\n",
    "print(f\"These are the {str(len(df_small.columns))} column names:\")\n",
    "print(\", \".join([col for col in df_small.columns]))\n",
    "print()\n",
    "df_small.sample(10).iloc[:,:20] # Show first 20 columns of 10 random rows"
   ]
  },
  {
   "cell_type": "markdown",
   "id": "d8142a87",
   "metadata": {},
   "source": [
    "## Save combined data to disk\n",
    "\n",
    "Use tab-separated format to prevent any issues with commas in the text data."
   ]
  },
  {
   "cell_type": "code",
   "execution_count": 15,
   "id": "386c8876",
   "metadata": {},
   "outputs": [],
   "source": [
    "df_small.to_csv(join('../data/', 'NEH_GrantProducts_Combined.tsv'), sep='\\t', index=False)"
   ]
  }
 ],
 "metadata": {
  "kernelspec": {
   "display_name": "Python 3 (ipykernel)",
   "language": "python",
   "name": "python3"
  },
  "language_info": {
   "codemirror_mode": {
    "name": "ipython",
    "version": 3
   },
   "file_extension": ".py",
   "mimetype": "text/x-python",
   "name": "python",
   "nbconvert_exporter": "python",
   "pygments_lexer": "ipython3",
   "version": "3.9.6"
  }
 },
 "nbformat": 4,
 "nbformat_minor": 5
}
